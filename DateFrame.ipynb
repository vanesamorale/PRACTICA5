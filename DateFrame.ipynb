{
 "cells": [
  {
   "cell_type": "code",
   "execution_count": 15,
   "id": "7f740acd-bc3d-46ee-ba2f-aeb765aec605",
   "metadata": {},
   "outputs": [
    {
     "name": "stdout",
     "output_type": "stream",
     "text": [
      "0      0\n",
      "1      1\n",
      "2      2\n",
      "3      3\n",
      "4      4\n",
      "5      5\n",
      "6      6\n",
      "7      7\n",
      "8      8\n",
      "9      9\n",
      "10    10\n",
      "dtype: int64\n",
      "0     azul\n",
      "1    verde\n",
      "2     rojo\n",
      "dtype: object\n"
     ]
    }
   ],
   "source": [
    "import pandas as pd\n",
    " \n",
    "serie = [0, 1, 2, 3, 4,5,6,7,8,9,10]\n",
    "df = pd.Series (serie)\n",
    "objetos = [\"azul\",\"verde\",\"rojo\"]\n",
    "ds = pd.Series (objetos)\n",
    "print(df)\n",
    "print(ds)\n"
   ]
  },
  {
   "cell_type": "raw",
   "id": "a6b36fe0-521f-493d-a40c-b6165d300add",
   "metadata": {},
   "source": [
    "\n"
   ]
  },
  {
   "cell_type": "code",
   "execution_count": 16,
   "id": "cfafc417-1fb6-4aef-8db9-17762f748c4c",
   "metadata": {},
   "outputs": [
    {
     "name": "stdout",
     "output_type": "stream",
     "text": [
      "Empty DataFrame\n",
      "Columns: []\n",
      "Index: []\n"
     ]
    }
   ],
   "source": [
    "da= pd.DataFrame()\n",
    "print(da)"
   ]
  },
  {
   "cell_type": "code",
   "execution_count": null,
   "id": "2500455d-fe3e-4e6e-bcf1-43ca83ada080",
   "metadata": {},
   "outputs": [],
   "source": [
    "\n"
   ]
  },
  {
   "cell_type": "code",
   "execution_count": 26,
   "id": "73601c70-5f54-4a98-b17a-7a8c3f8201e2",
   "metadata": {},
   "outputs": [
    {
     "name": "stdout",
     "output_type": "stream",
     "text": [
      "       Date   Fruit  Price\n",
      "0  April-10   Apple      3\n",
      "1  April-11  Papaya      1\n",
      "2  April-12  Banana      2\n",
      "3  April-13   Mango      4\n"
     ]
    }
   ],
   "source": [
    "dates=['April-10', 'April-11', 'April-12', 'April-13']\n",
    "fruits=['Apple', 'Papaya', 'Banana', 'Mango']\n",
    "prices=[3, 1, 2, 4]\n",
    "\n",
    "da= pd.DataFrame({'Date':dates ,\n",
    "                   'Fruit':fruits ,\n",
    "                   'Price': prices})\n",
    "\n",
    "print(da)"
   ]
  },
  {
   "cell_type": "code",
   "execution_count": null,
   "id": "40761063-612b-4c36-9d1b-5edd2329ce1f",
   "metadata": {},
   "outputs": [],
   "source": [
    "\n"
   ]
  },
  {
   "cell_type": "code",
   "execution_count": 27,
   "id": "95722240-9ce8-457e-a10e-d4d2104dae22",
   "metadata": {},
   "outputs": [
    {
     "name": "stdout",
     "output_type": "stream",
     "text": [
      "       Date   Fruit  Price  Profit\n",
      "0  April-10   Apple      3       6\n",
      "1  April-11  Papaya      1       6\n",
      "2  April-12  Banana      2       6\n",
      "3  April-13   Mango      4       6\n"
     ]
    }
   ],
   "source": [
    "dates=['April-10', 'April-11', 'April-12', 'April-13']\n",
    "fruits=['Apple', 'Papaya', 'Banana', 'Mango']\n",
    "prices=[3, 1, 2, 4]\n",
    "\n",
    "da = pd.DataFrame({'Date':dates ,\n",
    "                   'Fruit':fruits ,\n",
    "                   'Price': prices})\n",
    "\n",
    "new_da=da.assign(Profit=6)\n",
    "print(new_da)"
   ]
  },
  {
   "cell_type": "code",
   "execution_count": null,
   "id": "38eb6328-e5cd-4dd7-a7ba-1f47d52cca90",
   "metadata": {},
   "outputs": [],
   "source": []
  },
  {
   "cell_type": "code",
   "execution_count": null,
   "id": "44349738-40e0-4d2f-8ae2-4280a40817c2",
   "metadata": {},
   "outputs": [],
   "source": []
  },
  {
   "cell_type": "code",
   "execution_count": null,
   "id": "3e21f443-c5f8-4d72-9ecd-f3fcb3e079f8",
   "metadata": {},
   "outputs": [],
   "source": []
  }
 ],
 "metadata": {
  "kernelspec": {
   "display_name": "Python 3 (ipykernel)",
   "language": "python",
   "name": "python3"
  },
  "language_info": {
   "codemirror_mode": {
    "name": "ipython",
    "version": 3
   },
   "file_extension": ".py",
   "mimetype": "text/x-python",
   "name": "python",
   "nbconvert_exporter": "python",
   "pygments_lexer": "ipython3",
   "version": "3.9.6"
  }
 },
 "nbformat": 4,
 "nbformat_minor": 5
}
